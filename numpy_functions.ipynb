{
 "cells": [
  {
   "cell_type": "markdown",
   "id": "f3d2efac-b82b-4e7f-9689-377695c39ef6",
   "metadata": {},
   "source": [
    "## 1. numpy.array()"
   ]
  },
  {
   "cell_type": "markdown",
   "id": "62c147b9-e7d2-4e17-8043-f772b1c4c113",
   "metadata": {},
   "source": [
    "array() fonksiyonu, Python listelerini veya tuple'ları NumPy dizilerine (ndarray) dönüştürmek için kullanılır."
   ]
  },
  {
   "cell_type": "code",
   "execution_count": 1,
   "id": "bacd1524-13f7-4d8e-94a7-22bb19dc1813",
   "metadata": {},
   "outputs": [
    {
     "name": "stdout",
     "output_type": "stream",
     "text": [
      "[1 2 3 4 5]\n",
      "<class 'numpy.ndarray'>\n"
     ]
    }
   ],
   "source": [
    "import numpy as np\n",
    "\n",
    "# Normal bir Python listesi\n",
    "liste = [1, 2, 3, 4, 5]\n",
    "\n",
    "# NumPy dizisine çevirme\n",
    "arr = np.array(liste)\n",
    "\n",
    "print(arr)\n",
    "print(type(arr))  # <class 'numpy.ndarray'>"
   ]
  },
  {
   "cell_type": "markdown",
   "id": "942bab9d-98ab-4d83-9dae-4f6540a3652a",
   "metadata": {},
   "source": [
    "## 2. numpy.zeros()"
   ]
  },
  {
   "cell_type": "markdown",
   "id": "943a680c-57d7-4920-9510-ff38985efb72",
   "metadata": {},
   "source": [
    "Bu fonksiyon, belirli bir boyutta sıfırlardan oluşan bir NumPy dizisi oluşturur."
   ]
  },
  {
   "cell_type": "code",
   "execution_count": 4,
   "id": "4ff65d5f-8ed3-4317-81e4-4254c31533e5",
   "metadata": {},
   "outputs": [
    {
     "name": "stdout",
     "output_type": "stream",
     "text": [
      "[[0. 0. 0. 0. 0.]\n",
      " [0. 0. 0. 0. 0.]\n",
      " [0. 0. 0. 0. 0.]\n",
      " [0. 0. 0. 0. 0.]\n",
      " [0. 0. 0. 0. 0.]]\n"
     ]
    }
   ],
   "source": [
    "# 5x5 boyutunda sıfırlardan oluşan matris\n",
    "zero_matrix = np.zeros((5, 5))\n",
    "\n",
    "print(zero_matrix)"
   ]
  },
  {
   "cell_type": "markdown",
   "id": "b6c41cf4-1664-4846-895f-765dab594d65",
   "metadata": {},
   "source": [
    "## 3. numpy.ones()"
   ]
  },
  {
   "cell_type": "markdown",
   "id": "f39a03ab-562b-468b-953d-c5a1c7a84e7a",
   "metadata": {},
   "source": [
    "Bu fonksiyon, belirli bir boyutta birlerden oluşan bir NumPy dizisi oluşturur."
   ]
  },
  {
   "cell_type": "code",
   "execution_count": 6,
   "id": "db55d8c3-df75-49bb-b330-28c5d9ad1a91",
   "metadata": {},
   "outputs": [
    {
     "name": "stdout",
     "output_type": "stream",
     "text": [
      "[[1. 1. 1. 1.]\n",
      " [1. 1. 1. 1.]]\n"
     ]
    }
   ],
   "source": [
    "# 2x4 boyutunda birlerden oluşan matris\n",
    "ones_matrix = np.ones((2, 4))\n",
    "\n",
    "print(ones_matrix)\n"
   ]
  },
  {
   "cell_type": "markdown",
   "id": "4ca559bc-7091-4d58-9345-e4340874f236",
   "metadata": {},
   "source": [
    "## 4. numpy.arange()"
   ]
  },
  {
   "cell_type": "markdown",
   "id": "849e73d7-07ef-48c8-abbe-f460e06ba098",
   "metadata": {},
   "source": [
    "Bu fonksiyon, belirli bir başlangıç, bitiş ve adım değeri ile bir dizi oluşturur."
   ]
  },
  {
   "cell_type": "code",
   "execution_count": 8,
   "id": "9c62fd98-1787-498a-b5b4-38ed0b3f8052",
   "metadata": {},
   "outputs": [
    {
     "name": "stdout",
     "output_type": "stream",
     "text": [
      "[0 2 4 6 8]\n"
     ]
    }
   ],
   "source": [
    "# 0'dan 10'a kadar 2'şer artan dizi\n",
    "arr = np.arange(0, 10, 2)\n",
    "\n",
    "print(arr)  # [ 0  2  4  6  8]"
   ]
  },
  {
   "cell_type": "markdown",
   "id": "8afbac8c-65e6-4f64-9926-1f5fd05c981d",
   "metadata": {},
   "source": [
    "## 5. numpy.linspace()"
   ]
  },
  {
   "cell_type": "markdown",
   "id": "fc04ca3d-42e5-49af-9cf2-c4a6d469aec8",
   "metadata": {},
   "source": [
    "Belirtilen iki değer arasında eşit aralıklarla dizi oluşturur."
   ]
  },
  {
   "cell_type": "code",
   "execution_count": 9,
   "id": "d41fa707-35e7-489d-905a-3a577c176377",
   "metadata": {},
   "outputs": [
    {
     "name": "stdout",
     "output_type": "stream",
     "text": [
      "[0.   0.25 0.5  0.75 1.  ]\n"
     ]
    }
   ],
   "source": [
    "# 0 ile 1 arasında 5 eşit bölmeli dizi oluşturma\n",
    "arr = np.linspace(0, 1, 5)\n",
    "\n",
    "print(arr)  # [0.   0.25 0.5  0.75 1.  ]"
   ]
  },
  {
   "cell_type": "markdown",
   "id": "5d9edf62-c51d-4180-b23a-4b8c8f3fcc55",
   "metadata": {},
   "source": [
    "## 6. numpy.reshape()"
   ]
  },
  {
   "cell_type": "markdown",
   "id": "6e213889-67cf-4521-b2c8-dc8cc955e0cb",
   "metadata": {},
   "source": [
    "Bir NumPy dizisinin şeklini değiştirmek için kullanılır."
   ]
  },
  {
   "cell_type": "code",
   "execution_count": 10,
   "id": "356ab176-c235-4404-bb3d-eb6e405e7506",
   "metadata": {},
   "outputs": [
    {
     "name": "stdout",
     "output_type": "stream",
     "text": [
      "[[1 2 3]\n",
      " [4 5 6]\n",
      " [7 8 9]]\n"
     ]
    }
   ],
   "source": [
    "arr = np.arange(1, 10)  # [1 2 3 4 5 6 7 8 9]\n",
    "\n",
    "# 3x3'lük matris haline getirme\n",
    "reshaped_arr = arr.reshape((3, 3))\n",
    "\n",
    "print(reshaped_arr)"
   ]
  },
  {
   "cell_type": "markdown",
   "id": "b53679f3-5d8e-4203-b769-b8aa5eae1213",
   "metadata": {},
   "source": [
    "## 7. numpy.random.rand()"
   ]
  },
  {
   "cell_type": "markdown",
   "id": "fb6073a1-fcb0-4a60-80bb-8cb08a7a65d6",
   "metadata": {},
   "source": [
    "Bu fonksiyon, 0 ile 1 arasında rastgele değerler içeren bir dizi oluşturur."
   ]
  },
  {
   "cell_type": "code",
   "execution_count": 11,
   "id": "abfad063-bc83-4bd8-bca7-fe9bd415a4ab",
   "metadata": {},
   "outputs": [
    {
     "name": "stdout",
     "output_type": "stream",
     "text": [
      "[[0.98269172 0.16507109 0.76022007]\n",
      " [0.64897028 0.53841531 0.5705594 ]\n",
      " [0.05147398 0.47322219 0.14244966]]\n"
     ]
    }
   ],
   "source": [
    "# 3x3 boyutunda rastgele değerlerden oluşan matris\n",
    "random_matrix = np.random.rand(3, 3)\n",
    "\n",
    "print(random_matrix)"
   ]
  },
  {
   "cell_type": "markdown",
   "id": "e5dd091c-fe59-4be5-8272-3de73c94eb1e",
   "metadata": {},
   "source": [
    "## 8. numpy.mean()"
   ]
  },
  {
   "cell_type": "markdown",
   "id": "4bc4c772-61ae-4fd4-8f5a-8c167a3d9ddc",
   "metadata": {},
   "source": [
    "Bir dizinin elemanlarının ortalamasını hesaplar."
   ]
  },
  {
   "cell_type": "code",
   "execution_count": 12,
   "id": "1d41033a-ed6b-4884-a745-0911b80a54c3",
   "metadata": {},
   "outputs": [
    {
     "name": "stdout",
     "output_type": "stream",
     "text": [
      "30.0\n"
     ]
    }
   ],
   "source": [
    "arr = np.array([10, 20, 30, 40, 50])\n",
    "\n",
    "# Ortalama hesaplama\n",
    "mean_value = np.mean(arr)\n",
    "\n",
    "print(mean_value)  # 30.0"
   ]
  },
  {
   "cell_type": "markdown",
   "id": "f249dd52-8810-4302-867a-53f114c3370a",
   "metadata": {},
   "source": [
    "## 9. numpy.max() ve numpy.min() "
   ]
  },
  {
   "cell_type": "markdown",
   "id": "d3382418-8c64-43f6-b6f2-c59b6c9bf450",
   "metadata": {},
   "source": [
    "Bir dizinin en büyük (max) ve en küçük (min) değerlerini döndürür."
   ]
  },
  {
   "cell_type": "code",
   "execution_count": 13,
   "id": "d10546fd-8479-42ab-8447-a0e14c3ab9a6",
   "metadata": {},
   "outputs": [
    {
     "name": "stdout",
     "output_type": "stream",
     "text": [
      "Maksimum: 20\n",
      "Minimum: 3\n"
     ]
    }
   ],
   "source": [
    "arr = np.array([15, 3, 7, 20, 11])\n",
    "\n",
    "print(\"Maksimum:\", np.max(arr))  # 20\n",
    "print(\"Minimum:\", np.min(arr))   # 3"
   ]
  },
  {
   "cell_type": "markdown",
   "id": "5a7e69d9-8f55-40f9-b156-4d3f392a5a8e",
   "metadata": {},
   "source": [
    "## 10. numpy.sum()"
   ]
  },
  {
   "cell_type": "markdown",
   "id": "e45cc726-c818-4ca6-8400-a1196e6a0371",
   "metadata": {},
   "source": [
    "Bir dizideki tüm elemanların toplamını döndürür."
   ]
  },
  {
   "cell_type": "code",
   "execution_count": 14,
   "id": "67cf1860-6bbe-4660-9776-8f40088a7425",
   "metadata": {},
   "outputs": [
    {
     "name": "stdout",
     "output_type": "stream",
     "text": [
      "15\n"
     ]
    }
   ],
   "source": [
    "arr = np.array([1, 2, 3, 4, 5])\n",
    "\n",
    "# Toplam hesaplama\n",
    "sum_value = np.sum(arr)\n",
    "\n",
    "print(sum_value)  # 15"
   ]
  },
  {
   "cell_type": "code",
   "execution_count": null,
   "id": "0af607ef-4c6e-4ee8-8c2d-3aa85ef73475",
   "metadata": {},
   "outputs": [],
   "source": []
  }
 ],
 "metadata": {
  "kernelspec": {
   "display_name": "Python 3 (ipykernel)",
   "language": "python",
   "name": "python3"
  },
  "language_info": {
   "codemirror_mode": {
    "name": "ipython",
    "version": 3
   },
   "file_extension": ".py",
   "mimetype": "text/x-python",
   "name": "python",
   "nbconvert_exporter": "python",
   "pygments_lexer": "ipython3",
   "version": "3.12.6"
  }
 },
 "nbformat": 4,
 "nbformat_minor": 5
}
